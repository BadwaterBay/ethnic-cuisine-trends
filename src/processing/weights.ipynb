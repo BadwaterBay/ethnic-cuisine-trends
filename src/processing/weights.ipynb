{
 "cells": [
  {
   "cell_type": "code",
   "execution_count": 1,
   "metadata": {},
   "outputs": [],
   "source": [
    "import pandas as pd"
   ]
  },
  {
   "cell_type": "code",
   "execution_count": 2,
   "metadata": {},
   "outputs": [],
   "source": [
    "weights_raw = pd.read_csv('../data/ref/usa_internet_user_info.csv')"
   ]
  },
  {
   "cell_type": "code",
   "execution_count": 3,
   "metadata": {},
   "outputs": [],
   "source": [
    "# Filter to latest data of 'internet users (all locations)'\n",
    "weights_2017 = weights_raw.loc[(weights_raw.date.str.endswith('2017')) & \\\n",
    "                               (weights_raw.variable == 'internetUser'),\n",
    "                               :]\n",
    "\n",
    "weights_2017 = weights_2017.filter(regex='Count$') \\\n",
    "                           .drop(columns=['usCount']) \\\n",
    "                           .rename(columns=lambda c: c.rstrip('Count')) \\\n",
    "                           .T \\\n",
    "                           .reset_index() \\\n",
    "                           .rename(columns={'index': 'state', 333: 'intnt_pop'})"
   ]
  },
  {
   "cell_type": "code",
   "execution_count": 4,
   "metadata": {},
   "outputs": [],
   "source": [
    "weights_2017.to_csv('../data/ref/parsed_usa_intnt_users.csv', index=False)"
   ]
  }
 ],
 "metadata": {
  "kernelspec": {
   "display_name": "Python 3",
   "language": "python",
   "name": "python3"
  },
  "language_info": {
   "codemirror_mode": {
    "name": "ipython",
    "version": 3
   },
   "file_extension": ".py",
   "mimetype": "text/x-python",
   "name": "python",
   "nbconvert_exporter": "python",
   "pygments_lexer": "ipython3",
   "version": "3.8.2"
  }
 },
 "nbformat": 4,
 "nbformat_minor": 4
}
